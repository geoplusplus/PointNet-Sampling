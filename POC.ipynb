{
 "cells": [
  {
   "cell_type": "code",
   "execution_count": 30,
   "metadata": {},
   "outputs": [],
   "source": [
    "import h5py\n",
    "import numpy as np\n",
    "import matplotlib.pyplot as plt\n",
    "from mpl_toolkits.mplot3d import Axes3D\n",
    "import tensorflow as tf"
   ]
  },
  {
   "cell_type": "code",
   "execution_count": 31,
   "metadata": {},
   "outputs": [],
   "source": [
    "TRAIN = [line.rstrip() for line in open(\"data/modelnet40_ply_hdf5_2048/train_files.txt\")]\n",
    "TEST = [line.rstrip() for line in open(\"data/modelnet40_ply_hdf5_2048/test_files.txt\")]\n",
    "LABEL_NAMES = [line.rstrip() for line in open(\"data/modelnet40_ply_hdf5_2048/shape_names.txt\")]"
   ]
  },
  {
   "cell_type": "code",
   "execution_count": 32,
   "metadata": {},
   "outputs": [],
   "source": [
    "def load_h5(h5_filename):\n",
    "    f = h5py.File(h5_filename)\n",
    "    data = f['data'][:]\n",
    "    label = f['label'][:]\n",
    "    return (data, label)"
   ]
  },
  {
   "cell_type": "code",
   "execution_count": 33,
   "metadata": {},
   "outputs": [],
   "source": [
    "def visualize3D(x, y, z):\n",
    "    fig = plt.figure()\n",
    "    ax = Axes3D(fig)\n",
    "    ax.scatter(x, y, z)\n",
    "    plt.show()"
   ]
  },
  {
   "cell_type": "code",
   "execution_count": 34,
   "metadata": {},
   "outputs": [],
   "source": [
    "def pointCloudTransformation(pointCloud, angle, translation):\n",
    "    transformMatrixZ = np.array([\n",
    "                       [np.cos(angle), -np.sin(angle), 0],\n",
    "                       [np.sin(angle), np.cos(angle) , 0],\n",
    "                       [0            , 0             , 1]\n",
    "                      ])\n",
    "    \n",
    "    transformMatrixY = np.array([\n",
    "                       [np.cos(angle) , 0, np.sin(angle)],\n",
    "                       [0             , 1, 0            ],\n",
    "                       [-np.sin(angle), 0, np.cos(angle)]\n",
    "                      ])\n",
    "    \n",
    "    transformMatrixX = np.array([\n",
    "                       [1, 0            ,              0],\n",
    "                       [0, np.cos(angle), -np.sin(angle)],\n",
    "                       [0, np.sin(angle),  np.cos(angle)]\n",
    "                      ])\n",
    "    pointCloud =  np.dot(pointCloud, transformMatrixX)\n",
    "    pointCloud =  np.dot(pointCloud, transformMatrixY)\n",
    "    pointCloud =  np.dot(pointCloud, transformMatrixZ)\n",
    "    \n",
    "    \n",
    "#     transformMatrixZ = tf.constant([[tp.cos(angle), -tp.sin(angle), 0], [tp.sin(angle), tp.cos(angle) , 0], [0,0,1]])\n",
    "#     transformMatrixY = tf.constant([[tp.cos(angle),0, tp.sin(angle)], [0,0,1], [-tp.sin(angle), 0, tp.cos(angle)]])\n",
    "#     transformMatrixX = tf.constant([[1, 0,0], [0,tp.cos(angle), -tp.sin(angle)], [0, tp.sin(angle), tp.cos(angle)]])\n",
    "#     pointCloud = tf.tensordot(pointCloud, transformMatrixX, 1)\n",
    "#     pointCloud = tf.tensordot(pointCloud, transformMatrixY, 1)\n",
    "#     pointCloud = tf.tensordot(pointCloud, transformMatrixZ, 1)\n",
    "    return pointCloud"
   ]
  },
  {
   "cell_type": "code",
   "execution_count": 71,
   "metadata": {},
   "outputs": [],
   "source": [
    "def generteRandomPoints(noOfPoints, radius, center):\n",
    "    x = np.empty(noOfPoints)\n",
    "    y = np.empty(noOfPoints)\n",
    "    z = np.empty(noOfPoints)\n",
    "    \n",
    "    for i in range(noOfPoints):\n",
    "        phi = np.random.uniform(0,2*np.pi)\n",
    "        theta = np.random.uniform(0,np.pi)\n",
    "        randomRadius = radius * (np.random.uniform(0, 1))\n",
    "        x[i] = randomRadius * np.sin(theta) * np.cos(phi)\n",
    "        y[i] = randomRadius * np.sin(theta) * np.sin(phi)\n",
    "        z[i] = randomRadius * np.cos(theta)\n",
    "    x += center[0]\n",
    "    y += center[1]\n",
    "    z += center[2]\n",
    "    return x, y, z\n",
    "\n",
    "#     radius = tf.constant([radius])\n",
    "#     phi = tf.random_normal([0,2*np.pi])\n",
    "#     theta = tf.random_normal([0,np.pi])\n",
    "#     randomRadius = radius * (tf.random_normal([0, 1]))\n",
    "#     xCoordinate = radius * tf.sin(theta) * tf.cos(phi) + center\n",
    "#     yCoordinate = radius * tf.sin(theta) * tf.sin(phi)\n",
    "#     zCoordinate = radius * tf.cos(theta)"
   ]
  },
  {
   "cell_type": "code",
   "execution_count": null,
   "metadata": {},
   "outputs": [],
   "source": [
    "def Reconstruction(pointCloud, noOfPoints):\n",
    "    reconstructedPoints = []\n",
    "    pointPerSample = noOfPoints/int(pointCloud.shape[1])\n",
    "    for point in pointCloud:\n",
    "        point = reshape(point, [-1])\n",
    "        reconstructedPoints.append(generateRandomPoints(pointPerSample, .05, point ))\n",
    "    return np.array(reconstructedPoints)"
   ]
  },
  {
   "cell_type": "code",
   "execution_count": 68,
   "metadata": {},
   "outputs": [],
   "source": [
    "models = []\n",
    "labels = []\n",
    "for file in TRAIN:\n",
    "    current_data, current_label = load_h5(file)\n",
    "    for index in range(len(current_data)):\n",
    "        temp = pointCloudTransformation(current_data[index], np.pi/2, 0)    \n",
    "        models.append(temp)\n",
    "        labels.append(current_label[index])\n",
    "models = np.array(models)\n",
    "labels = np.array(models)"
   ]
  },
  {
   "cell_type": "code",
   "execution_count": 70,
   "metadata": {},
   "outputs": [
    {
     "ename": "TypeError",
     "evalue": "'Tensor' object is not iterable.",
     "output_type": "error",
     "traceback": [
      "\u001b[0;31m---------------------------------------------------------------------------\u001b[0m",
      "\u001b[0;31mTypeError\u001b[0m                                 Traceback (most recent call last)",
      "\u001b[0;32m<ipython-input-70-161a08d01266>\u001b[0m in \u001b[0;36m<module>\u001b[0;34m()\u001b[0m\n\u001b[1;32m      6\u001b[0m \u001b[0mlayer3\u001b[0m \u001b[0;34m=\u001b[0m \u001b[0mtf\u001b[0m\u001b[0;34m.\u001b[0m\u001b[0mcontrib\u001b[0m\u001b[0;34m.\u001b[0m\u001b[0mlayers\u001b[0m\u001b[0;34m.\u001b[0m\u001b[0mfully_connected\u001b[0m\u001b[0;34m(\u001b[0m\u001b[0mlayer2\u001b[0m\u001b[0;34m,\u001b[0m \u001b[0;36m768\u001b[0m\u001b[0;34m,\u001b[0m\u001b[0mactivation_fn\u001b[0m\u001b[0;34m=\u001b[0m\u001b[0mtf\u001b[0m\u001b[0;34m.\u001b[0m\u001b[0mnn\u001b[0m\u001b[0;34m.\u001b[0m\u001b[0mrelu\u001b[0m\u001b[0;34m)\u001b[0m\u001b[0;34m\u001b[0m\u001b[0m\n\u001b[1;32m      7\u001b[0m \u001b[0moutput\u001b[0m \u001b[0;34m=\u001b[0m \u001b[0mtf\u001b[0m\u001b[0;34m.\u001b[0m\u001b[0mcontrib\u001b[0m\u001b[0;34m.\u001b[0m\u001b[0mlayers\u001b[0m\u001b[0;34m.\u001b[0m\u001b[0mfully_connected\u001b[0m\u001b[0;34m(\u001b[0m\u001b[0mlayer3\u001b[0m\u001b[0;34m,\u001b[0m \u001b[0;36m384\u001b[0m\u001b[0;34m,\u001b[0m\u001b[0mactivation_fn\u001b[0m\u001b[0;34m=\u001b[0m\u001b[0mtf\u001b[0m\u001b[0;34m.\u001b[0m\u001b[0mnn\u001b[0m\u001b[0;34m.\u001b[0m\u001b[0mrelu\u001b[0m\u001b[0;34m)\u001b[0m\u001b[0;34m\u001b[0m\u001b[0m\n\u001b[0;32m----> 8\u001b[0;31m \u001b[0mreconstructedPoints\u001b[0m \u001b[0;34m=\u001b[0m \u001b[0mReconstruction\u001b[0m\u001b[0;34m(\u001b[0m\u001b[0moutput\u001b[0m\u001b[0;34m,\u001b[0m \u001b[0;36m3\u001b[0m\u001b[0;34m*\u001b[0m\u001b[0;36m2048\u001b[0m\u001b[0;34m)\u001b[0m\u001b[0;34m\u001b[0m\u001b[0m\n\u001b[0m\u001b[1;32m      9\u001b[0m \u001b[0mloss\u001b[0m \u001b[0;34m=\u001b[0m \u001b[0mtf\u001b[0m\u001b[0;34m.\u001b[0m\u001b[0mreduce_mean\u001b[0m\u001b[0;34m(\u001b[0m\u001b[0mtf\u001b[0m\u001b[0;34m.\u001b[0m\u001b[0mlosses\u001b[0m\u001b[0;34m.\u001b[0m\u001b[0mmean_squared_error\u001b[0m\u001b[0;34m(\u001b[0m\u001b[0moutput\u001b[0m\u001b[0;34m,\u001b[0m\u001b[0mreconstructedPoints\u001b[0m\u001b[0;34m)\u001b[0m\u001b[0;34m)\u001b[0m\u001b[0;34m\u001b[0m\u001b[0m\n\u001b[1;32m     10\u001b[0m \u001b[0;31m# train_op = tf.train.AdamOptimizer(learning_rate=0.001).minimize(loss)\u001b[0m\u001b[0;34m\u001b[0m\u001b[0;34m\u001b[0m\u001b[0m\n",
      "\u001b[0;32m<ipython-input-67-4eda323b9232>\u001b[0m in \u001b[0;36mReconstruction\u001b[0;34m(pointCloud, noOfPoints)\u001b[0m\n\u001b[1;32m      2\u001b[0m     \u001b[0mreconstructedPoints\u001b[0m \u001b[0;34m=\u001b[0m \u001b[0;34m[\u001b[0m\u001b[0;34m]\u001b[0m\u001b[0;34m\u001b[0m\u001b[0m\n\u001b[1;32m      3\u001b[0m     \u001b[0mpointPerSample\u001b[0m \u001b[0;34m=\u001b[0m \u001b[0mnoOfPoints\u001b[0m\u001b[0;34m/\u001b[0m\u001b[0mint\u001b[0m\u001b[0;34m(\u001b[0m\u001b[0mpointCloud\u001b[0m\u001b[0;34m.\u001b[0m\u001b[0mshape\u001b[0m\u001b[0;34m[\u001b[0m\u001b[0;36m1\u001b[0m\u001b[0;34m]\u001b[0m\u001b[0;34m)\u001b[0m\u001b[0;34m\u001b[0m\u001b[0m\n\u001b[0;32m----> 4\u001b[0;31m     \u001b[0;32mfor\u001b[0m \u001b[0mpoint\u001b[0m \u001b[0;32min\u001b[0m \u001b[0mpointCloud\u001b[0m\u001b[0;34m:\u001b[0m\u001b[0;34m\u001b[0m\u001b[0m\n\u001b[0m\u001b[1;32m      5\u001b[0m         \u001b[0mpoint\u001b[0m \u001b[0;34m=\u001b[0m \u001b[0mreshape\u001b[0m\u001b[0;34m(\u001b[0m\u001b[0mpoint\u001b[0m\u001b[0;34m,\u001b[0m \u001b[0;34m[\u001b[0m\u001b[0;34m-\u001b[0m\u001b[0;36m1\u001b[0m\u001b[0;34m]\u001b[0m\u001b[0;34m)\u001b[0m\u001b[0;34m\u001b[0m\u001b[0m\n\u001b[1;32m      6\u001b[0m         \u001b[0mreconstructedPoints\u001b[0m\u001b[0;34m.\u001b[0m\u001b[0mappend\u001b[0m\u001b[0;34m(\u001b[0m\u001b[0mgenerateRandomPoints\u001b[0m\u001b[0;34m(\u001b[0m\u001b[0mpointPerSample\u001b[0m\u001b[0;34m,\u001b[0m \u001b[0;36m.05\u001b[0m\u001b[0;34m,\u001b[0m \u001b[0mpoint\u001b[0m \u001b[0;34m)\u001b[0m\u001b[0;34m)\u001b[0m\u001b[0;34m\u001b[0m\u001b[0m\n",
      "\u001b[0;32m/Library/Frameworks/Python.framework/Versions/3.5/lib/python3.5/site-packages/tensorflow/python/framework/ops.py\u001b[0m in \u001b[0;36m__iter__\u001b[0;34m(self)\u001b[0m\n\u001b[1;32m    503\u001b[0m       \u001b[0mTypeError\u001b[0m\u001b[0;34m:\u001b[0m \u001b[0mwhen\u001b[0m \u001b[0minvoked\u001b[0m\u001b[0;34m.\u001b[0m\u001b[0;34m\u001b[0m\u001b[0m\n\u001b[1;32m    504\u001b[0m     \"\"\"\n\u001b[0;32m--> 505\u001b[0;31m     \u001b[0;32mraise\u001b[0m \u001b[0mTypeError\u001b[0m\u001b[0;34m(\u001b[0m\u001b[0;34m\"'Tensor' object is not iterable.\"\u001b[0m\u001b[0;34m)\u001b[0m\u001b[0;34m\u001b[0m\u001b[0m\n\u001b[0m\u001b[1;32m    506\u001b[0m \u001b[0;34m\u001b[0m\u001b[0m\n\u001b[1;32m    507\u001b[0m   \u001b[0;32mdef\u001b[0m \u001b[0m__bool__\u001b[0m\u001b[0;34m(\u001b[0m\u001b[0mself\u001b[0m\u001b[0;34m)\u001b[0m\u001b[0;34m:\u001b[0m\u001b[0;34m\u001b[0m\u001b[0m\n",
      "\u001b[0;31mTypeError\u001b[0m: 'Tensor' object is not iterable."
     ]
    }
   ],
   "source": [
    "tf.reset_default_graph()\n",
    "BATCH_SIZE = 100\n",
    "x = tf.placeholder(tf.float32, shape=[BATCH_SIZE, 3*2048])\n",
    "layer1 = tf.contrib.layers.fully_connected(x, 3072,activation_fn=tf.nn.relu)\n",
    "layer2 = tf.contrib.layers.fully_connected(layer1, 1536,activation_fn=tf.nn.relu)\n",
    "layer3 = tf.contrib.layers.fully_connected(layer2, 768,activation_fn=tf.nn.relu)\n",
    "output = tf.contrib.layers.fully_connected(layer3, 384,activation_fn=tf.nn.relu)\n",
    "reconstructedPoints = Reconstruction(output, 3*2048)\n",
    "loss = tf.reduce_mean(tf.losses.mean_squared_error(output,reconstructedPoints))  \n",
    "# train_op = tf.train.AdamOptimizer(learning_rate=0.001).minimize(loss)\n",
    "init = tf.global_variables_initializer()"
   ]
  },
  {
   "cell_type": "code",
   "execution_count": null,
   "metadata": {},
   "outputs": [],
   "source": []
  },
  {
   "cell_type": "raw",
   "metadata": {},
   "source": []
  },
  {
   "cell_type": "code",
   "execution_count": 72,
   "metadata": {},
   "outputs": [],
   "source": []
  },
  {
   "cell_type": "code",
   "execution_count": null,
   "metadata": {},
   "outputs": [],
   "source": []
  },
  {
   "cell_type": "code",
   "execution_count": null,
   "metadata": {},
   "outputs": [],
   "source": []
  },
  {
   "cell_type": "code",
   "execution_count": null,
   "metadata": {},
   "outputs": [],
   "source": [
    "#Read Data plot 3d points\n",
    "#Compress data code\n",
    "#Reconstruct by making sphere and putting random points in that \n"
   ]
  }
 ],
 "metadata": {
  "kernelspec": {
   "display_name": "Python 3",
   "language": "python",
   "name": "python3"
  },
  "language_info": {
   "codemirror_mode": {
    "name": "ipython",
    "version": 3
   },
   "file_extension": ".py",
   "mimetype": "text/x-python",
   "name": "python",
   "nbconvert_exporter": "python",
   "pygments_lexer": "ipython3",
   "version": "3.5.0"
  }
 },
 "nbformat": 4,
 "nbformat_minor": 2
}
